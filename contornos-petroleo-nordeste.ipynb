{
 "cells": [
  {
   "cell_type": "markdown",
   "id": "demographic-colors",
   "metadata": {},
   "source": [
    "# Detecção de contornos e o caso das manchas de petróleo no Nordeste\n",
    "\n",
    "Em 2019 houve uma série de manchas de petróleo nas praias nordestinas, causando um grande impacto nas comunidades e toda uma preocupação de como evitar que casos como esse possam prejudicar comunidades e todo o ecossistema envolvido.\n",
    "\n",
    "Naquele mesmo ano a NASA organizou um hackathon para desafiar soluções para problemas como este, da qual um grupo do Brasil foi vencedor. [Neste](https://hipsters.tech/hackathons-nasa-e-manchas-de-oleo-hipsters-ponto-tech-178/) episódio do podcast Hipsters.tech tem mais detalhes.\n",
    "\n",
    "Utilizando ferramentas de visão computacional iremos identificar uma mancha de petróleo de uma imagem de satélite e estimar o seu tamanho como forma de alertar as autoridades para ações mais rápidas, supondo todo um sistema integrado.\n",
    "\n",
    "Para realizar esta análise, serão utilizando os seguintes conceitos de visão computacional:\n",
    "\n",
    "1. Espaço de cores\n",
    "2. Suavização\n",
    "3. Limiarização\n",
    "4. Identificação de bordas\n",
    "5. Identificação de contornos"
   ]
  },
  {
   "cell_type": "markdown",
   "id": "critical-prairie",
   "metadata": {},
   "source": [
    "Circulou na imprensa de 2019 imagens como a abaixo, obtidas por satélites para exibir a extensão das manchas e seus potenciais danos na vida marinha."
   ]
  },
  {
   "cell_type": "code",
   "execution_count": null,
   "id": "bearing-emphasis",
   "metadata": {},
   "outputs": [],
   "source": []
  }
 ],
 "metadata": {
  "kernelspec": {
   "display_name": "Python 3",
   "language": "python",
   "name": "python3"
  },
  "language_info": {
   "codemirror_mode": {
    "name": "ipython",
    "version": 3
   },
   "file_extension": ".py",
   "mimetype": "text/x-python",
   "name": "python",
   "nbconvert_exporter": "python",
   "pygments_lexer": "ipython3",
   "version": "3.6.10"
  }
 },
 "nbformat": 4,
 "nbformat_minor": 5
}
